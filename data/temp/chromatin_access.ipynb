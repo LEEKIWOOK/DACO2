{
 "cells": [
  {
   "cell_type": "code",
   "execution_count": 77,
   "metadata": {},
   "outputs": [],
   "source": [
    "import pandas as pd\n",
    "import pyranges as pr\n",
    "import h5py\n",
    "from epitome.dataset import *\n",
    "\n",
    "#da = pd.read_csv(\"/home/kwlee/Projects_gflas/Team_BI/Projects/1.Knockout_project/Data/Finalsets/Backup/Kim2018_Cas12a.feature.csv\", sep='\\t', usecols=['sgRNA-chrom','sgRNA-pos','sgRNA-seq','Target-gene','Target-transcript','Target-protein','Target-transcript_type'])\n",
    "h5_path = \"/home/kwlee/.epitome/data/hg38/data.h5\"\n",
    "data = h5py.File(h5_path, 'r')\n",
    "keys = EpitomeDataset.all_keys(data)"
   ]
  },
  {
   "cell_type": "code",
   "execution_count": 78,
   "metadata": {},
   "outputs": [],
   "source": [
    "full_matrix, cellmap, targetmap = EpitomeDataset.get_assays(data_dir=\"/home/kwlee/.epitome/data/hg38\")\n",
    "# make a truncated matrix that includes updated indices for rows containing data from cellmap, targetmap\n",
    "matrix = full_matrix.copy()\n",
    "row_indices = full_matrix.flatten()\n",
    "row_indices=row_indices[row_indices!=-1]\n",
    "# update matrix values\n",
    "for i,v in enumerate(row_indices):\n",
    "    matrix[full_matrix == v] = i"
   ]
  },
  {
   "cell_type": "code",
   "execution_count": 79,
   "metadata": {},
   "outputs": [],
   "source": [
    "regions = pd.DataFrame({'Chromosome':data['columns']['chr'][:].astype(str), 'Start':data['columns']['start'][:], 'End':data['columns']['start'][:] + data['columns']['binSize']})\n",
    "regions['idx']=regions.index\n",
    "regions = pr.PyRanges(regions, int64=True)"
   ]
  },
  {
   "cell_type": "code",
   "execution_count": 91,
   "metadata": {},
   "outputs": [
    {
     "name": "stderr",
     "output_type": "stream",
     "text": [
      "/home/kwlee/anaconda3/lib/python3.8/site-packages/epitome/dataset.py:379: UserWarning: min_targets_per_cell should not be < 2 (this means it only has a similarity target) but was set to 1\n",
      "  warnings.warn(\"min_targets_per_cell should not be < 2 (this means it only has a similarity target) but was set to %i\" % min_targets_per_cell)\n"
     ]
    },
    {
     "ename": "Exception",
     "evalue": "['HEK293T'] is less than the minimum cells required (3).\n                Lower min_cells_per_target to (2) if you plan to use only 1 eligible cells",
     "output_type": "error",
     "traceback": [
      "\u001b[0;31m---------------------------------------------------------------------------\u001b[0m",
      "\u001b[0;31mException\u001b[0m                                 Traceback (most recent call last)",
      "\u001b[0;32m/tmp/ipykernel_2362890/1486641986.py\u001b[0m in \u001b[0;36m<module>\u001b[0;34m\u001b[0m\n\u001b[1;32m      2\u001b[0m \u001b[0meligible_targets\u001b[0m \u001b[0;34m=\u001b[0m \u001b[0;34m[\u001b[0m\u001b[0;34m'DNase'\u001b[0m\u001b[0;34m]\u001b[0m\u001b[0;34m\u001b[0m\u001b[0;34m\u001b[0m\u001b[0m\n\u001b[1;32m      3\u001b[0m \u001b[0;34m\u001b[0m\u001b[0m\n\u001b[0;32m----> 4\u001b[0;31m matrix, cellmap, targetmap = EpitomeDataset.get_assays(\n\u001b[0m\u001b[1;32m      5\u001b[0m     \u001b[0mtargets\u001b[0m \u001b[0;34m=\u001b[0m \u001b[0meligible_targets\u001b[0m\u001b[0;34m,\u001b[0m\u001b[0;34m\u001b[0m\u001b[0;34m\u001b[0m\u001b[0m\n\u001b[1;32m      6\u001b[0m     \u001b[0mcells\u001b[0m \u001b[0;34m=\u001b[0m \u001b[0meligible_cells\u001b[0m\u001b[0;34m,\u001b[0m\u001b[0;34m\u001b[0m\u001b[0;34m\u001b[0m\u001b[0m\n",
      "\u001b[0;32m~/anaconda3/lib/python3.8/site-packages/epitome/dataset.py\u001b[0m in \u001b[0;36mget_assays\u001b[0;34m(targets, cells, data_dir, assembly, min_cells_per_target, min_targets_per_cell, similarity_targets)\u001b[0m\n\u001b[1;32m    400\u001b[0m         \u001b[0;32mif\u001b[0m \u001b[0;34m(\u001b[0m\u001b[0mcells\u001b[0m \u001b[0;34m!=\u001b[0m \u001b[0;32mNone\u001b[0m\u001b[0;34m)\u001b[0m\u001b[0;34m:\u001b[0m\u001b[0;34m\u001b[0m\u001b[0;34m\u001b[0m\u001b[0m\n\u001b[1;32m    401\u001b[0m             \u001b[0;32mif\u001b[0m \u001b[0;34m(\u001b[0m\u001b[0mlen\u001b[0m\u001b[0;34m(\u001b[0m\u001b[0mcells\u001b[0m\u001b[0;34m)\u001b[0m \u001b[0;34m+\u001b[0m \u001b[0;36m1\u001b[0m \u001b[0;34m<\u001b[0m \u001b[0mmin_cells_per_target\u001b[0m\u001b[0;34m)\u001b[0m\u001b[0;34m:\u001b[0m\u001b[0;34m\u001b[0m\u001b[0;34m\u001b[0m\u001b[0m\n\u001b[0;32m--> 402\u001b[0;31m                 raise Exception(\"\"\"%s is less than the minimum cells required (%i).\n\u001b[0m\u001b[1;32m    403\u001b[0m                 Lower min_cells_per_target to (%i) if you plan to use only %i eligible cells\"\"\" \\\n\u001b[1;32m    404\u001b[0m                                 % (cells, min_cells_per_target, len(cells)+1, len(cells)))\n",
      "\u001b[0;31mException\u001b[0m: ['HEK293T'] is less than the minimum cells required (3).\n                Lower min_cells_per_target to (2) if you plan to use only 1 eligible cells"
     ]
    }
   ],
   "source": [
    "eligible_cells = ['HEK293T']\n",
    "eligible_targets = ['DNase']\n",
    "\n",
    "matrix, cellmap, targetmap = EpitomeDataset.get_assays(\n",
    "    targets = eligible_targets,\n",
    "    cells = eligible_cells,\n",
    "    min_cells_per_target = 3,\n",
    "    min_targets_per_cell = 1,\n",
    "    data_dir = \"/home/kwlee/.epitome/data\",\n",
    "    assembly = 'hg38')\n"
   ]
  },
  {
   "cell_type": "code",
   "execution_count": 90,
   "metadata": {},
   "outputs": [
    {
     "ename": "KeyError",
     "evalue": "'H4K8ac'",
     "output_type": "error",
     "traceback": [
      "\u001b[0;31m---------------------------------------------------------------------------\u001b[0m",
      "\u001b[0;31mKeyError\u001b[0m                                  Traceback (most recent call last)",
      "\u001b[0;32m/tmp/ipykernel_2362890/2236903117.py\u001b[0m in \u001b[0;36m<module>\u001b[0;34m\u001b[0m\n\u001b[0;32m----> 1\u001b[0;31m \u001b[0mprint\u001b[0m\u001b[0;34m(\u001b[0m\u001b[0mmatrix\u001b[0m\u001b[0;34m[\u001b[0m\u001b[0mcellmap\u001b[0m\u001b[0;34m[\u001b[0m\u001b[0;34m'IMR-90'\u001b[0m\u001b[0;34m]\u001b[0m\u001b[0;34m]\u001b[0m\u001b[0;34m[\u001b[0m\u001b[0mtargetmap\u001b[0m\u001b[0;34m[\u001b[0m\u001b[0;34m'H4K8ac'\u001b[0m\u001b[0;34m]\u001b[0m\u001b[0;34m]\u001b[0m\u001b[0;34m==\u001b[0m\u001b[0;36m0\u001b[0m\u001b[0;34m)\u001b[0m\u001b[0;34m\u001b[0m\u001b[0;34m\u001b[0m\u001b[0m\n\u001b[0m",
      "\u001b[0;31mKeyError\u001b[0m: 'H4K8ac'"
     ]
    }
   ],
   "source": [
    "print(matrix[cellmap['IMR-90']][targetmap['DNase']]==0)"
   ]
  },
  {
   "cell_type": "code",
   "execution_count": 35,
   "metadata": {},
   "outputs": [],
   "source": [
    "indexed_targets={}    # dict of {cell: {dict of indexed targets} }\n",
    "for i, (cell, target) in enumerate(zip(data['rows']['celltypes'][:], data['rows']['targets'][:])):\n",
    "    # bytes to str\n",
    "    cell, target = cell.decode(), target.decode()\n",
    " \n",
    "    # if cell and target is valid, add it in\n",
    "    if cell not in indexed_targets:\n",
    "        indexed_targets[cell] = {target: i}\n",
    "    else:\n",
    "        indexed_targets[cell][target] = i"
   ]
  },
  {
   "cell_type": "code",
   "execution_count": 48,
   "metadata": {},
   "outputs": [],
   "source": [
    "\n",
    "            \n",
    "\n",
    "#indexed_targets['HEK293T']['DNase']\n",
    "#keys = EpitomeDataset.all_keys(data)\n",
    "#dataset = EpitomeDataset(cells=['HEK293T'], assembly='hg38',min_cells_per_target=0)"
   ]
  },
  {
   "cell_type": "code",
   "execution_count": 49,
   "metadata": {},
   "outputs": [],
   "source": [
    "dataset_assembly = data['meta']['assembly'][:][0].decode()\n",
    "source = data['meta']['source'][:][0].decode()\n",
    "#print(indexed_targets.keys())"
   ]
  },
  {
   "cell_type": "code",
   "execution_count": 72,
   "metadata": {},
   "outputs": [],
   "source": []
  },
  {
   "cell_type": "code",
   "execution_count": 73,
   "metadata": {},
   "outputs": [
    {
     "name": "stdout",
     "output_type": "stream",
     "text": [
      "{'vagina': 0, 'uterus': 1, 'trophoblast-cell': 2, 'transverse-colon': 3, 'tibial-artery': 4, 'thyroid-gland': 5, 'thoracic-aorta': 6, 'spleen': 7, 'smooth-muscle-cell': 8, 'skeletal-muscle-myoblast': 9, 'right-lobe-of-liver': 10, 'right-atrium-auricular-region': 11, 'retinal-pigment-epithelial-cell': 12, 'prostate-gland': 13, 'osteoblast': 14, 'neuronal-stem-cell': 15, 'neural-progenitor-cell': 16, 'naive-thymus-derived-CD4-positive-alpha-beta-T-cell': 17, 'myotube': 18, 'mesendoderm': 19, 'mesenchymal-stem-cell': 20, 'mammary-epithelial-cell': 21, 'liver': 22, 'large-intestine': 23, 'kidney-epithelial-cell': 24, 'keratinocyte': 25, 'iPS-DF-6': 26, 'iPS-DF-19': 27, 'hepatocyte': 28, 'gastrocnemius-medialis': 29, 'foreskin-keratinocyte': 30, 'foreskin-fibroblast': 31, 'fibroblast-of-villous-mesenchyme': 32, 'fibroblast-of-the-aortic-adventitia': 33, 'fibroblast-of-mammary-gland': 34, 'fibroblast-of-lung': 35, 'fibroblast-of-dermis': 36, 'esophagus-squamous-epithelium': 37, 'esophagus-muscularis-mucosa': 38, 'epithelial-cell-of-proximal-tubule': 39, 'epithelial-cell-of-prostate': 40, 'endothelial-cell-of-umbilical-vein': 41, 'endodermal-cell': 42, 'common-myeloid-progenitor-CD34-positive': 43, 'choroid-plexus-epithelial-cell': 44, 'cardiac-muscle-cell': 45, 'bronchial-epithelial-cell': 46, 'brain': 47, 'body-of-pancreas': 48, 'astrocyte-of-the-spinal-cord': 49, 'astrocyte': 50, 'adrenal-gland': 51, 'adipocyte': 52, 'WI38': 53, 'WERI-Rb-1': 54, 'SK-N-MC': 55, 'Panc1': 56, 'PC-9': 57, 'PC-3': 58, 'OCI-LY7': 59, 'NT2-D1': 60, 'MM': 61, 'MCF-7': 62, 'LNCaP-clone-FGC': 63, 'Karpas-422': 64, 'K562': 65, 'IMR-90': 66, 'HepG2': 67, 'HeLa-S3': 68, 'HL-60': 69, 'HEK293T': 70, 'HCT116': 71, 'H9': 72, 'H7': 73, 'H1': 74, 'GM23338': 75, 'GM23248': 76, 'GM12892': 77, 'GM12891': 78, 'GM12878': 79, 'GM06990': 80, 'Caco-2': 81, 'CD8-positive-alpha-beta-T-cell': 82, 'CD4-positive-alpha-beta-T-cell': 83, 'CD14-positive-monocyte': 84, 'BJ': 85, 'BE2C': 86, 'B-cell': 87, 'AG10803': 88, 'AG09319': 89, 'AG04450': 90, 'A673': 91, 'A549': 92}\n"
     ]
    }
   ],
   "source": [
    "print(cellmap)"
   ]
  }
 ],
 "metadata": {
  "interpreter": {
   "hash": "14cef931255bd958b973d0e700c331f2b900e2680fcdbcb1b0aa41386dd0cdf9"
  },
  "kernelspec": {
   "display_name": "Python 3.8.5 ('base')",
   "language": "python",
   "name": "python3"
  },
  "language_info": {
   "codemirror_mode": {
    "name": "ipython",
    "version": 3
   },
   "file_extension": ".py",
   "mimetype": "text/x-python",
   "name": "python",
   "nbconvert_exporter": "python",
   "pygments_lexer": "ipython3",
   "version": "3.8.5"
  },
  "orig_nbformat": 4
 },
 "nbformat": 4,
 "nbformat_minor": 2
}
